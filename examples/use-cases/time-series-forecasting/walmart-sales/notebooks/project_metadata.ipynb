{
 "cells": [
  {
   "attachments": {},
   "cell_type": "markdown",
   "metadata": {},
   "source": [
    "# Updating project metadata\n",
    "A _project_ in Neptune typically represents one machine learning task. A project can contain runs, models, model versions, and project-level metadata.\n",
    "\n",
    "Project metadata helps you maintain a single source of truth for runs and models tracked in the project.\n",
    "\n",
    "Learn more about logging to the project metadata here: https://docs.neptune.ai/logging/project_metadata/"
   ]
  },
  {
   "cell_type": "code",
   "execution_count": null,
   "metadata": {},
   "outputs": [],
   "source": [
    "%pip install -U neptune"
   ]
  },
  {
   "cell_type": "code",
   "execution_count": null,
   "metadata": {},
   "outputs": [],
   "source": [
    "import neptune"
   ]
  },
  {
   "cell_type": "code",
   "execution_count": null,
   "metadata": {
    "tags": []
   },
   "outputs": [],
   "source": [
    "try:\n",
    "    from pathlib import Path\n",
    "\n",
    "    DATA_PATH = str(Path(__file__).parent.parent.joinpath(\"dataset\"))\n",
    "except NameError:\n",
    "    DATA_PATH = \"../dataset\""
   ]
  },
  {
   "cell_type": "code",
   "execution_count": null,
   "metadata": {},
   "outputs": [
    {
     "name": "stdout",
     "output_type": "stream",
     "text": [
      "https://app.neptune.ai/common/project-time-series-forecasting/\n",
      "Shutting down background jobs, please wait a moment...\n",
      "Done!\n",
      "Waiting for the remaining 3 operations to synchronize with Neptune. Do not kill this process.\n",
      "All 3 operations synced, thanks for waiting!\n",
      "Explore the metadata in the Neptune app:\n",
      "https://app.neptune.ai/common/project-time-series-forecasting/metadata\n"
     ]
    }
   ],
   "source": [
    "with neptune.init_project(project=\"common/project-time-series-forecasting\") as project:\n",
    "    project[\"sales-forecasting/brief\"] = \"Walmart sales forecast\"\n",
    "    project[\"sales-forecasting/dataset\"].track_files(DATA_PATH)\n",
    "    project[\n",
    "        \"sales-forecasting/code\"\n",
    "    ] = \"https://github.com/neptune-ai/examples/tree/main/use-cases/time-series-forecasting\""
   ]
  }
 ],
 "metadata": {
  "keep_output": true,
  "kernelspec": {
   "display_name": "py38",
   "language": "python",
   "name": "python3"
  },
  "language_info": {
   "codemirror_mode": {
    "name": "ipython",
    "version": 3
   },
   "file_extension": ".py",
   "mimetype": "text/x-python",
   "name": "python",
   "nbconvert_exporter": "python",
   "pygments_lexer": "ipython3",
   "version": "3.8.15"
  },
  "vscode": {
   "interpreter": {
    "hash": "a9715cf0b0024f6e1c62cb31a4f1f43970eb41991212681878768b4bfe53050a"
   }
  }
 },
 "nbformat": 4,
 "nbformat_minor": 2
}
